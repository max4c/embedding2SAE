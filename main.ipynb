{
 "cells": [
  {
   "cell_type": "code",
   "execution_count": 1,
   "metadata": {},
   "outputs": [
    {
     "name": "stdout",
     "output_type": "stream",
     "text": [
      "[1717720076.968500] [e89995c8a091:1425555:f]        vfs_fuse.c:281  UCX  ERROR inotify_add_watch(/tmp) failed: No space left on device\n"
     ]
    },
    {
     "name": "stderr",
     "output_type": "stream",
     "text": [
      "/usr/local/lib/python3.10/dist-packages/sentence_transformers/cross_encoder/CrossEncoder.py:11: TqdmWarning: IProgress not found. Please update jupyter and ipywidgets. See https://ipywidgets.readthedocs.io/en/stable/user_install.html\n",
      "  from tqdm.autonotebook import tqdm, trange\n"
     ]
    }
   ],
   "source": [
    "import os   \n",
    "os.environ['HF_HOME'] = \"/home/max4c/.cache/huggingface/\"\n",
    "os.environ['CUDA_VISIBLE_DEVICES'] = \"13,14,15\"  \n",
    "import json\n",
    "import torch\n",
    "import torch.nn as nn\n",
    "import torch.optim as optim\n",
    "from torch.utils.data import Dataset\n",
    "from torch.utils.data import DataLoader\n",
    "\n",
    "import numpy as np\n",
    "from sentence_transformers import SentenceTransformer"
   ]
  },
  {
   "cell_type": "code",
   "execution_count": 2,
   "metadata": {},
   "outputs": [],
   "source": [
    "class AbsDataset(Dataset):\n",
    "    def __init__(self, train_fn=\"./train.json\"):\n",
    "        self.data = json.load(open(train_fn, \"r\"))\n",
    "        self.sentences = []\n",
    "        for item in self.data:\n",
    "            self.sentences.extend(item['good'])\n",
    "\n",
    "    def __len__(self):\n",
    "        return len(self.sentences)\n",
    "\n",
    "    def __getitem__(self, idx):\n",
    "        return self.sentences[idx]\n",
    "\n",
    "class SparseAutoencoder(nn.Module):\n",
    "    def __init__(self, input_size, hidden_size):\n",
    "        super(SparseAutoencoder, self).__init__()\n",
    "        self.encoder = nn.Sequential(\n",
    "            nn.Linear(input_size, hidden_size),\n",
    "            nn.ReLU()\n",
    "        )\n",
    "        self.decoder = nn.Linear(hidden_size, input_size)\n",
    "        \n",
    "        self.apply(self.init_weights)\n",
    "    \n",
    "    def init_weights(self, module):\n",
    "        if isinstance(module, nn.Linear):\n",
    "            nn.init.xavier_uniform_(module.weight)\n",
    "            if module.bias is not None:\n",
    "                module.bias.data.zero_()\n",
    "    \n",
    "    def forward(self, x):\n",
    "        encoded = self.encoder(x)\n",
    "        decoded = self.decoder(encoded)\n",
    "        return decoded, encoded"
   ]
  },
  {
   "cell_type": "code",
   "execution_count": 3,
   "metadata": {},
   "outputs": [
    {
     "name": "stdout",
     "output_type": "stream",
     "text": [
      "Loading embedding model...\n"
     ]
    },
    {
     "name": "stderr",
     "output_type": "stream",
     "text": [
      "/usr/local/lib/python3.10/dist-packages/huggingface_hub/file_download.py:1132: FutureWarning: `resume_download` is deprecated and will be removed in version 1.0.0. Downloads always resume when possible. If you want to force a new download, use `force_download=True`.\n",
      "  warnings.warn(\n"
     ]
    },
    {
     "name": "stdout",
     "output_type": "stream",
     "text": [
      "Loading data...\n"
     ]
    }
   ],
   "source": [
    "print(\"Loading embedding model...\")\n",
    "emb_model = SentenceTransformer(\"sentence-t5-xxl\").to(\"cuda\")\n",
    "\n",
    "print(\"Loading data...\")\n",
    "training_data = AbsDataset()[:1000]\n",
    "train_dataloader = DataLoader(training_data, batch_size=64, shuffle=True, num_workers=10)\n",
    "\n",
    "input_size = emb_model.get_sentence_embedding_dimension()\n",
    "hidden_size = 10000  # Adjust this value as needed\n",
    "autoencoder = SparseAutoencoder(input_size, hidden_size).to(\"cuda\")\n",
    "\n",
    "criterion = nn.MSELoss()\n",
    "optimizer = optim.Adam(autoencoder.parameters(), lr=0.0001)  # Reduced learning rate\n",
    "\n",
    "sparsity_weight = 0.5"
   ]
  },
  {
   "cell_type": "code",
   "execution_count": 4,
   "metadata": {},
   "outputs": [
    {
     "name": "stdout",
     "output_type": "stream",
     "text": [
      "Training...\n",
      "Epoch [1/1], Batch [1/16], Loss: 0.0042\n",
      "Epoch [1/1], Batch [2/16], Loss: 0.0036\n",
      "Epoch [1/1], Batch [3/16], Loss: 0.0030\n",
      "Epoch [1/1], Batch [4/16], Loss: 0.0026\n",
      "Epoch [1/1], Batch [5/16], Loss: 0.0023\n",
      "Epoch [1/1], Batch [6/16], Loss: 0.0020\n",
      "Epoch [1/1], Batch [7/16], Loss: 0.0018\n",
      "Epoch [1/1], Batch [8/16], Loss: 0.0016\n",
      "Epoch [1/1], Batch [9/16], Loss: 0.0015\n",
      "Epoch [1/1], Batch [10/16], Loss: 0.0014\n",
      "Epoch [1/1], Batch [11/16], Loss: 0.0013\n",
      "Epoch [1/1], Batch [12/16], Loss: 0.0012\n",
      "Epoch [1/1], Batch [13/16], Loss: 0.0012\n",
      "Epoch [1/1], Batch [14/16], Loss: 0.0012\n",
      "Epoch [1/1], Batch [15/16], Loss: 0.0011\n",
      "Epoch [1/1], Batch [16/16], Loss: 0.0011\n"
     ]
    }
   ],
   "source": [
    "print(\"Training...\")\n",
    "for epoch in range(1): \n",
    "    for batch, X in enumerate(train_dataloader):\n",
    "        X = emb_model.encode(X, convert_to_numpy=False, convert_to_tensor=True, device=\"cuda\")\n",
    "\n",
    "        optimizer.zero_grad()\n",
    "        reconstructed, encoded = autoencoder(X)\n",
    "        reconstruction_loss = criterion(reconstructed, X)\n",
    "\n",
    "        # Compute sparsity loss\n",
    "        sparsity_loss = torch.mean(torch.abs(encoded))\n",
    "\n",
    "        # Combine reconstruction loss and sparsity loss\n",
    "        loss = reconstruction_loss + sparsity_weight * sparsity_loss\n",
    "        torch.nn.utils.clip_grad_norm_(autoencoder.parameters(), max_norm=1.0)\n",
    "        loss.backward()\n",
    "\n",
    "        # Gradient clipping\n",
    "        torch.nn.utils.clip_grad_norm_(autoencoder.parameters(), max_norm=1.0)\n",
    "\n",
    "        optimizer.step()\n",
    "\n",
    "        if batch % 1 == 0:\n",
    "            print(f\"Epoch [{epoch+1}/1], Batch [{batch+1}/{len(train_dataloader)}], Loss: {loss.item():.4f}\")\n",
    "\n",
    "# Save the trained model's state dictionary\n",
    "torch.save(autoencoder.state_dict(), \"trained_autoencoder.pth\")"
   ]
  }
 ],
 "metadata": {
  "kernelspec": {
   "display_name": "Python 3",
   "language": "python",
   "name": "python3"
  },
  "language_info": {
   "codemirror_mode": {
    "name": "ipython",
    "version": 3
   },
   "file_extension": ".py",
   "mimetype": "text/x-python",
   "name": "python",
   "nbconvert_exporter": "python",
   "pygments_lexer": "ipython3",
   "version": "3.9.6"
  }
 },
 "nbformat": 4,
 "nbformat_minor": 2
}
